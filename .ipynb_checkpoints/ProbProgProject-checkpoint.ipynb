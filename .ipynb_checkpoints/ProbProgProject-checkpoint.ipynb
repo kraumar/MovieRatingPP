{
  "nbformat": 4,
  "nbformat_minor": 0,
  "metadata": {
    "colab": {
      "name": "ProbProgProject.ipynb",
      "provenance": [],
      "collapsed_sections": []
    },
    "kernelspec": {
      "name": "python3",
      "display_name": "Python 3"
    }
  },
  "cells": [
    {
      "cell_type": "markdown",
      "metadata": {
        "id": "nsIhm9wVyNkX",
        "colab_type": "text"
      },
      "source": [
        "# Projekt z programowania probabilistycznego\n",
        "\n",
        "Każda grupa ma osobny zestaw danych do opracowania. Każdy zestaw składa się z 2500 próbek opisujących oceny filmów przez różnych ludzi. Każdy rekord zawiera następujące informacje:\n",
        "\n",
        "1.   id filmu\n",
        "2.   id osoby wystawiającej ocenę\n",
        "3.   id gatunku do którego należy film\n",
        "4.   ocenę wystawioną przez określoną osobę określonemu filmowi\n",
        "\n",
        "Każda baza danych obejmuje 200 filmów należących do 5 gatunków. Filmy oceniane były przez 25 ludzi. Ta sama osoba mogła wystawić więcej niż jedną ocenę jeżli widziała określony film wielokrotnie.\n",
        "\n",
        "Dla uproszczenia analizy oceny filmów są liczbami rzeczywistymi, mogą być zarówno dodatnie jak i ujemne.\n",
        "\n",
        "W ramach projektu trzeba będzie przygotować modele odpowiadające na poniższe pytania.\n",
        "\n",
        "\n",
        "\n",
        "\n"
      ]
    },
    {
      "cell_type": "markdown",
      "metadata": {
        "id": "au0ONKBgvMLZ",
        "colab_type": "text"
      },
      "source": [
        "## Na 3.0\n",
        "\n",
        "Przygotuj model opisujący ocenę filmu jako wartość losową określoną rozkładem normalnym. Każdy film ma inną średnią `mu_movie` (którą możemy traktować jako rzeczywistą jakość filmu) którą jesteśmy zainteresowani. Dla uproszczenia zakładamy tę samą wariancję:\n",
        "```\n",
        "sigma_movie = pm.Gamma('sigma_movie', alpha=10, beta=5)\n",
        "mu_movie = pm.Normal('mu_movie', mu=0.0, sigma=sigma_movie, shape=n_movies)\n",
        "```\n",
        "Zapisując to matematycznie odchylenie standardowe:\n",
        "\n",
        "$\\sigma_{movie} \\sim \\Gamma(10, 5)$\n",
        "\n",
        "średnia dla filmu $i$:\n",
        "\n",
        "$\\mu_i \\sim N(0, \\sigma_{movie})$\n",
        "\n",
        "Ocena filmu $i$ z gatunku $g$ przez osobę $o$:\n",
        "\n",
        "$\\mathit{O}_{i,o,g} \\sim N(\\mu_i, \\sigma_{movie})$\n",
        "\n",
        "Każde $\\mathit{O}_{i,o,g}$ odpowiada pojedynczemu rekordowi w danych.\n",
        "\n",
        "Podaj trzy filmy z najwyższymi ocenami i trzy z najniższymi ocenami."
      ]
    },
    {
      "cell_type": "markdown",
      "metadata": {
        "id": "DVqKNV83vICp",
        "colab_type": "text"
      },
      "source": [
        "## Na 4.0\n",
        "\n",
        "Niektóre osoby są większymi fanami kina niż inne. Co więcej, kryteria przyznawania tej samej oceny różnią się pomiędzy ludźmi. Ponadto jedne gatunki bywają raczej lepiej oceniane od innych. Rozszerz model o dodatkowe składniki uwzględniające te efekty.\n",
        "\n",
        "Do średniej dla rozkładu $\\mathit{O}_{i,o,g}$ dodaj odpowiednie składniki:\n",
        "\n",
        "$\\mathit{O}_{i,o,g} \\sim N(\\mu_i + \\mu_o + \\mu_g, \\sigma_{movie})$\n",
        "\n",
        "gdzie $\\mu_o$ oznacza jak ostro ocenia dana osoba i pochodzi z rozkładu\n",
        "\n",
        "$\\mu_o \\sim N(0, \\sigma_{person})$\n",
        "\n",
        "zaś $\\mu_g$ oznacza jak ostro oceniane są filmy z danego gatunku:\n",
        "\n",
        "$\\mu_g \\sim N(0, \\sigma_{genre})$.\n",
        "\n",
        "Przyjmij\n",
        "```\n",
        "sigma_person = pm.Gamma('sigma_person', alpha=10, beta=5)\n",
        "sigma_genre = pm.Gamma('sigma_genre', alpha=10, beta=5)\n",
        "```\n",
        "\n",
        "Który gatunek cieszy się największą populatnością a który najmniejszą? Która osoba najbardziej krytycznie ocenia filmy?\n",
        "\n",
        "Spróbuj usunąć z bazy wszystkie oceny wybranego filmu i zobacz jak to wpłynie na wynik (ocenę usuniętego filmu -- średnią i przedział HPD)."
      ]
    },
    {
      "cell_type": "markdown",
      "metadata": {
        "id": "F_WcdvWcu_8V",
        "colab_type": "text"
      },
      "source": [
        "\n",
        "## Na 5.0\n",
        "\n",
        "Wzbogać model uwzględniając, że różne osoby w różnym stopniu lubią gatunki filmowe. Rozbuduj model uwzględniajac dodatkowo ten efekt:\n",
        "\n",
        "```\n",
        "mu_gp = pm.Normal('mu_gp', mu=0.0, sigma=sigma_person, shape=(n_genres, n_people))\n",
        "```\n",
        "\n",
        "Na co Twoim zdaniem wpływa uwzględnianie dodatkowych efektów? Które osoby szczególnie lubią jakiś gatunek?\n",
        "\n"
      ]
    },
    {
      "cell_type": "markdown",
      "metadata": {
        "id": "Z8bCNePZvCr4",
        "colab_type": "text"
      },
      "source": [
        "## Osobno dla każdego modelu opisywanego w sprawozdaniu\n",
        "\n",
        "Wykonaj sampling z następującymi ustawieniami:\n",
        "```\n",
        "trace = pm.sample(5000, tune=1000, target_accept=.9)\n",
        "```\n",
        "\n",
        "Czy sampling kończy się sukcesem? Dlaczego tak uważasz? Zapisz w sprawozdaniu wartości `mean`, `sd`, `hpd_3%` i `hpd_97%` dla odchylenia standardowego i 20 pierwszych filmów korzystając z funkcji:\n",
        "```\n",
        "pm.summary(trace)\n",
        "```\n",
        "Zanotuj wartości `mean` dla wszystkich filmów."
      ]
    },
    {
      "cell_type": "markdown",
      "metadata": {
        "id": "gZtJbqnTinfQ",
        "colab_type": "text"
      },
      "source": [
        "# Kod do generowania danych testowych"
      ]
    },
    {
      "cell_type": "code",
      "metadata": {
        "id": "bIAUOlrgyB3h",
        "colab_type": "code",
        "colab": {}
      },
      "source": [
        "# Arviz służy do wizualizacji modeli Bayesowskich\n",
        "!pip install arviz \n",
        "!pip install 'pymc3==3.8'"
      ],
      "execution_count": 0,
      "outputs": []
    },
    {
      "cell_type": "code",
      "metadata": {
        "id": "ydu_z2V9irzB",
        "colab_type": "code",
        "colab": {}
      },
      "source": [
        "%matplotlib inline\n",
        "import numpy as np\n",
        "import theano\n",
        "import theano.tensor as tt\n",
        "import pymc3 as pm\n",
        "import arviz\n",
        "import pandas as pd\n",
        "\n",
        "import seaborn as sns\n",
        "import matplotlib.pyplot as plt\n",
        "\n",
        "sns.set_context('notebook')\n",
        "plt.style.use('seaborn-darkgrid')\n",
        "print('Running on PyMC3 v{}'.format(pm.__version__))\n",
        "\n",
        "pd.set_option('display.max_rows', 300)"
      ],
      "execution_count": 0,
      "outputs": []
    },
    {
      "cell_type": "code",
      "metadata": {
        "id": "CYtDeRTMiuuK",
        "colab_type": "code",
        "colab": {}
      },
      "source": [
        "n_genres = 5\n",
        "n_people = 25\n",
        "n_movies = 200\n",
        "\n",
        "def gen_data(n_examples):\n",
        "  sigma_person = pm.Gamma.dist(alpha=10, beta=5).random()\n",
        "  sigma_movie = pm.Gamma.dist(alpha=10, beta=5).random()\n",
        "  sigma_genre = pm.Gamma.dist(alpha=10, beta=5).random()\n",
        "\n",
        "  d_mu_m = pm.Normal.dist(mu=0.0, sigma=sigma_movie)\n",
        "  d_mu_g = pm.Normal.dist(mu=0.0, sigma=sigma_genre)\n",
        "  mu_movie = [d_mu_m.random() for gi in range(n_movies)] # średnia ocena filmu\n",
        "  mu_genre = [d_mu_g.random() for gi in range(n_genres)] # średnia ocena gatunku\n",
        "  d_mu_person = pm.Normal.dist(mu=0.0, sigma=sigma_person)\n",
        "\n",
        "  mu_person = [d_mu_person.random() for _ in range(n_people)] # średnia ocena prez osobę\n",
        "  d_mu_gp = pm.Normal.dist(mu=0.0, sigma=sigma_person)\n",
        "  mu_gp = [[d_mu_gp.random() for _ in range(n_people)] for _ in range(n_genres)] # średnia ocena gatunku prez osobę\n",
        "\n",
        "  d_genre = pm.DiscreteUniform.dist(0, n_genres-1)\n",
        "  d_person = pm.DiscreteUniform.dist(0, n_people-1)\n",
        "  d_movie = pm.DiscreteUniform.dist(0, n_movies-1)\n",
        "\n",
        "  movie_to_genre = [d_genre.random() for _ in range(n_movies)]\n",
        "\n",
        "  def gen_random():\n",
        "    movie = d_movie.random()\n",
        "    person = d_person.random()\n",
        "    genre = movie_to_genre[movie]\n",
        "    like = pm.Normal.dist(mu=mu_movie[movie] + mu_genre[genre] + mu_person[person] + mu_gp[genre][person], sigma=sigma_person).random()\n",
        "    return [movie, person, genre, like]\n",
        "\n",
        "  df = pd.DataFrame(np.array([gen_random() for _ in range(n_examples)]),\n",
        "                    columns=['movie', 'person', 'genre', 'like'])\n",
        "  dataframe = df.astype({\"movie\": int, \"person\": int, \"genre\": int})\n",
        "  return (dataframe, mu_movie, mu_genre, mu_person, mu_gp, movie_to_genre, sigma_person, sigma_movie, sigma_genre)\n",
        "  \n",
        "dataframe, orig_mu_movie, orig_mu_genre, orig_mu_person, mu_gp, movie_to_genre, orig_sigma_person, orig_sigma_movie, orig_sigma_genre = gen_data(2500)\n",
        "\n",
        "# dataframe -- dane testowe w odpowiednim formacie do analizy\n",
        "# orig_* -- ukryte zmienne objaśniające które nie są znane\n",
        "\n",
        "# Można weryfikować poprawność modelu generując nowe dane i sprawdzając czy wygenerowane wartości zmiennych (orig_*) objaśniających mniej więcej odpowiadają tym które zwraca model.\n",
        "\n",
        "\n",
        "def save_data(id, dataframe, orig_mu_movie, orig_mu_genre, orig_mu_person, mu_gp, movie_to_genre, orig_sigma_person, orig_sigma_movie, orig_sigma_genre):\n",
        "  dataframe.to_csv(f'/content/drive/My Drive/Colab Notebooks/ProbProbProjData/dataframe {id}.csv')\n",
        "  with open(f'/content/drive/My Drive/Colab Notebooks/ProbProbProjData/latent {id}.txt', 'w') as f:\n",
        "    f.write(f'orig_sigma_person = {orig_sigma_person}\\n')\n",
        "    f.write(f'orig_sigma_movie = {orig_sigma_movie}\\n')\n",
        "    f.write(f'orig_sigma_genre = {orig_sigma_genre}\\n')\n",
        "    f.write('orig_mu_movie = \\n')\n",
        "    for i in range(n_movies):\n",
        "      f.write(f'{i}\\t{orig_mu_movie[i]}')\n",
        "      f.write('\\n')\n",
        "    f.write('orig_mu_genre = \\n')\n",
        "    for i in range(n_genres):\n",
        "      f.write(f'{i}\\t{orig_mu_genre[i]}')\n",
        "      f.write('\\n')\n",
        "    f.write('orig_mu_person = \\n')\n",
        "    for i in range(n_people):\n",
        "      f.write(f'{i}\\t{orig_mu_person[i]}')\n",
        "      f.write('\\n')\n",
        "    f.write('movie_to_genre = \\n')\n",
        "    for i in range(n_movies):\n",
        "      f.write(f'{i}\\t{movie_to_genre[i]}')\n",
        "      f.write('\\n')\n",
        "    f.write('orig_mu_gp = \\n')\n",
        "    for i in range(n_genres):\n",
        "      f.write(f'{i}')\n",
        "      for j in range(n_people):\n",
        "        f.write(f'\\t{mu_gp[i][j]}')\n",
        "      f.write('\\n')\n",
        "\n",
        "# for i in range(100):\n",
        "#   save_data(i, *gen_data(2500))\n",
        "\n",
        "print(\"sigmas\", orig_sigma_person, orig_sigma_movie, orig_sigma_genre)\n",
        "display(dataframe.describe())\n",
        "display(dataframe)\n",
        "print(\"mu_genre\")\n",
        "display(orig_mu_genre)\n",
        "print(\"mu_person\")\n",
        "display(orig_mu_person)\n",
        "print(\"mu_movie\")\n",
        "display(orig_mu_movie)"
      ],
      "execution_count": 0,
      "outputs": []
    }
  ]
}